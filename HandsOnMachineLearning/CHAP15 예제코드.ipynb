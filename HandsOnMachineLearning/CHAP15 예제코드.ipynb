{
 "cells": [
  {
   "cell_type": "code",
   "execution_count": 2,
   "metadata": {},
   "outputs": [],
   "source": [
    "import numpy as np\n",
    "\n",
    "def generate_time_series(batch_size, n_steps):\n",
    "    ## creating data with number of rows 'batch_size'\n",
    "    freq1, freq2, offsets1, offsets2 = np.random.rand(4, batch_size, 1)\n",
    "    ## set timestep with each length n_steps\n",
    "    time = np.linspace(0, 1, n_steps)\n",
    "    # wave 1\n",
    "    series = 0.5 + np.sin((time - offsets1) * (freq1 * 10 + 10))\n",
    "    # + wave 2\n",
    "    series += 0.2 + np.sin((time - offsets2) * (freq2 * 20 + 20))\n",
    "    # + nosie\n",
    "    series += 0.1 * (np.random.rand(batch_size, n_steps) - 0.5)\n",
    "    return series[..., np.newaxis].astype(np.float32)"
   ]
  },
  {
   "cell_type": "code",
   "execution_count": 3,
   "metadata": {},
   "outputs": [],
   "source": [
    "n_steps = 50\n",
    "series = generate_time_series(10000, n_steps + 1)\n",
    "# 7:2:1로 train, validation, test set의 비율을 설정, 마지막 1개 값은 prediction 용\n",
    "X_train, y_train = series[:7000, :n_steps], series[:7000, -1]\n",
    "X_valid, y_valid = series[7000:9000, :n_steps], series[7000:9000, -1]\n",
    "X_test, y_test = series[9000:, :n_steps], series[9000:, -1]"
   ]
  },
  {
   "cell_type": "code",
   "execution_count": 12,
   "metadata": {},
   "outputs": [
    {
     "data": {
      "text/plain": [
       "0.23645893"
      ]
     },
     "execution_count": 12,
     "metadata": {},
     "output_type": "execute_result"
    }
   ],
   "source": [
    "# naive forecasting\n",
    "## To check if the RNN model outperform basic model\n",
    "import keras \n",
    "\n",
    "y_pred = X_valid[:,-1]\n",
    "np.mean(keras.losses.mean_squared_error(y_valid, y_pred))"
   ]
  },
  {
   "cell_type": "code",
   "execution_count": 13,
   "metadata": {},
   "outputs": [],
   "source": [
    "# compare with fully connected network\n",
    "model = keras.models.Sequential([\n",
    "    keras.layers.Flatten(input_shape = [50,1]), ## flat list of features for input\n",
    "    keras.layers.Dense(1) # fully connected model - Simple Linear Regression\n",
    "])\n",
    "\n",
    "## adam optimizer 사용, 20 epoch으로 training set 학습 시 MSE 0.004"
   ]
  },
  {
   "cell_type": "code",
   "execution_count": null,
   "metadata": {},
   "outputs": [],
   "source": [
    "model = keras.models.Sequential ([\n",
    "    keras.layers.SimpleRNN(1, input_shape = [None,1])  ## if you set first input dimension to None, RNN can process any number of time steps\n",
    "])"
   ]
  }
 ],
 "metadata": {
  "kernelspec": {
   "display_name": "Python 3",
   "language": "python",
   "name": "python3"
  },
  "language_info": {
   "codemirror_mode": {
    "name": "ipython",
    "version": 3
   },
   "file_extension": ".py",
   "mimetype": "text/x-python",
   "name": "python",
   "nbconvert_exporter": "python",
   "pygments_lexer": "ipython3",
   "version": "3.8.5"
  }
 },
 "nbformat": 4,
 "nbformat_minor": 4
}
